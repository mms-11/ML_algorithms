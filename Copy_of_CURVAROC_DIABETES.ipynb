{
  "nbformat": 4,
  "nbformat_minor": 0,
  "metadata": {
    "colab": {
      "provenance": [],
      "authorship_tag": "ABX9TyOuFSJNq7Cx+1YzA7ESITaB",
      "include_colab_link": true
    },
    "kernelspec": {
      "name": "python3",
      "display_name": "Python 3"
    },
    "language_info": {
      "name": "python"
    }
  },
  "cells": [
    {
      "cell_type": "markdown",
      "metadata": {
        "id": "view-in-github",
        "colab_type": "text"
      },
      "source": [
        "<a href=\"https://colab.research.google.com/github/mms-11/ML_algorithms/blob/main/Copy_of_CURVAROC_DIABETES.ipynb\" target=\"_parent\"><img src=\"https://colab.research.google.com/assets/colab-badge.svg\" alt=\"Open In Colab\"/></a>"
      ]
    },
    {
      "cell_type": "code",
      "execution_count": null,
      "metadata": {
        "colab": {
          "base_uri": "https://localhost:8080/"
        },
        "id": "jK7RRp-t1Rvy",
        "outputId": "0777f968-40de-4632-f929-feba18be9a7a"
      },
      "outputs": [
        {
          "output_type": "stream",
          "name": "stdout",
          "text": [
            "Mounted at /content/MyDrive\n"
          ]
        }
      ],
      "source": [
        "# @title abrir meu drive\n",
        "from google.colab import drive\n",
        "\n",
        "drive.mount('/content/MyDrive')\n",
        "\n"
      ]
    },
    {
      "cell_type": "code",
      "source": [
        "# @title importar bibliotecas\n",
        "import pandas as pd\n",
        "\n",
        "import pydotplus #pip install pydotplus\n",
        "from sklearn.tree import export_graphviz\n",
        "from sklearn.tree import DecisionTreeClassifier\n",
        "from sklearn import tree\n",
        "import numpy as np\n"
      ],
      "metadata": {
        "id": "XIEHfAx-1u7z"
      },
      "execution_count": null,
      "outputs": []
    },
    {
      "cell_type": "code",
      "source": [
        "# @title Ler dataset diabetes\n",
        "df = pd.read_csv('/content/MyDrive/My Drive/diabetes.csv')\n",
        "\n",
        "df.head()"
      ],
      "metadata": {
        "colab": {
          "base_uri": "https://localhost:8080/",
          "height": 206
        },
        "id": "RSfN23j5160h",
        "outputId": "35fe6e39-4c93-490f-e76d-e83b4e2a7641"
      },
      "execution_count": null,
      "outputs": [
        {
          "output_type": "execute_result",
          "data": {
            "text/plain": [
              "   preg  plas  pres  skin  insu  mass   pedi  age            class\n",
              "0     6   148    72    35     0  33.6  0.627   50  tested_positive\n",
              "1     1    85    66    29     0  26.6  0.351   31  tested_negative\n",
              "2     8   183    64     0     0  23.3  0.672   32  tested_positive\n",
              "3     1    89    66    23    94  28.1  0.167   21  tested_negative\n",
              "4     0   137    40    35   168  43.1  2.288   33  tested_positive"
            ],
            "text/html": [
              "\n",
              "  <div id=\"df-c6fb5d42-75b7-4f69-804f-0c14a7ce86b4\" class=\"colab-df-container\">\n",
              "    <div>\n",
              "<style scoped>\n",
              "    .dataframe tbody tr th:only-of-type {\n",
              "        vertical-align: middle;\n",
              "    }\n",
              "\n",
              "    .dataframe tbody tr th {\n",
              "        vertical-align: top;\n",
              "    }\n",
              "\n",
              "    .dataframe thead th {\n",
              "        text-align: right;\n",
              "    }\n",
              "</style>\n",
              "<table border=\"1\" class=\"dataframe\">\n",
              "  <thead>\n",
              "    <tr style=\"text-align: right;\">\n",
              "      <th></th>\n",
              "      <th>preg</th>\n",
              "      <th>plas</th>\n",
              "      <th>pres</th>\n",
              "      <th>skin</th>\n",
              "      <th>insu</th>\n",
              "      <th>mass</th>\n",
              "      <th>pedi</th>\n",
              "      <th>age</th>\n",
              "      <th>class</th>\n",
              "    </tr>\n",
              "  </thead>\n",
              "  <tbody>\n",
              "    <tr>\n",
              "      <th>0</th>\n",
              "      <td>6</td>\n",
              "      <td>148</td>\n",
              "      <td>72</td>\n",
              "      <td>35</td>\n",
              "      <td>0</td>\n",
              "      <td>33.6</td>\n",
              "      <td>0.627</td>\n",
              "      <td>50</td>\n",
              "      <td>tested_positive</td>\n",
              "    </tr>\n",
              "    <tr>\n",
              "      <th>1</th>\n",
              "      <td>1</td>\n",
              "      <td>85</td>\n",
              "      <td>66</td>\n",
              "      <td>29</td>\n",
              "      <td>0</td>\n",
              "      <td>26.6</td>\n",
              "      <td>0.351</td>\n",
              "      <td>31</td>\n",
              "      <td>tested_negative</td>\n",
              "    </tr>\n",
              "    <tr>\n",
              "      <th>2</th>\n",
              "      <td>8</td>\n",
              "      <td>183</td>\n",
              "      <td>64</td>\n",
              "      <td>0</td>\n",
              "      <td>0</td>\n",
              "      <td>23.3</td>\n",
              "      <td>0.672</td>\n",
              "      <td>32</td>\n",
              "      <td>tested_positive</td>\n",
              "    </tr>\n",
              "    <tr>\n",
              "      <th>3</th>\n",
              "      <td>1</td>\n",
              "      <td>89</td>\n",
              "      <td>66</td>\n",
              "      <td>23</td>\n",
              "      <td>94</td>\n",
              "      <td>28.1</td>\n",
              "      <td>0.167</td>\n",
              "      <td>21</td>\n",
              "      <td>tested_negative</td>\n",
              "    </tr>\n",
              "    <tr>\n",
              "      <th>4</th>\n",
              "      <td>0</td>\n",
              "      <td>137</td>\n",
              "      <td>40</td>\n",
              "      <td>35</td>\n",
              "      <td>168</td>\n",
              "      <td>43.1</td>\n",
              "      <td>2.288</td>\n",
              "      <td>33</td>\n",
              "      <td>tested_positive</td>\n",
              "    </tr>\n",
              "  </tbody>\n",
              "</table>\n",
              "</div>\n",
              "    <div class=\"colab-df-buttons\">\n",
              "\n",
              "  <div class=\"colab-df-container\">\n",
              "    <button class=\"colab-df-convert\" onclick=\"convertToInteractive('df-c6fb5d42-75b7-4f69-804f-0c14a7ce86b4')\"\n",
              "            title=\"Convert this dataframe to an interactive table.\"\n",
              "            style=\"display:none;\">\n",
              "\n",
              "  <svg xmlns=\"http://www.w3.org/2000/svg\" height=\"24px\" viewBox=\"0 -960 960 960\">\n",
              "    <path d=\"M120-120v-720h720v720H120Zm60-500h600v-160H180v160Zm220 220h160v-160H400v160Zm0 220h160v-160H400v160ZM180-400h160v-160H180v160Zm440 0h160v-160H620v160ZM180-180h160v-160H180v160Zm440 0h160v-160H620v160Z\"/>\n",
              "  </svg>\n",
              "    </button>\n",
              "\n",
              "  <style>\n",
              "    .colab-df-container {\n",
              "      display:flex;\n",
              "      gap: 12px;\n",
              "    }\n",
              "\n",
              "    .colab-df-convert {\n",
              "      background-color: #E8F0FE;\n",
              "      border: none;\n",
              "      border-radius: 50%;\n",
              "      cursor: pointer;\n",
              "      display: none;\n",
              "      fill: #1967D2;\n",
              "      height: 32px;\n",
              "      padding: 0 0 0 0;\n",
              "      width: 32px;\n",
              "    }\n",
              "\n",
              "    .colab-df-convert:hover {\n",
              "      background-color: #E2EBFA;\n",
              "      box-shadow: 0px 1px 2px rgba(60, 64, 67, 0.3), 0px 1px 3px 1px rgba(60, 64, 67, 0.15);\n",
              "      fill: #174EA6;\n",
              "    }\n",
              "\n",
              "    .colab-df-buttons div {\n",
              "      margin-bottom: 4px;\n",
              "    }\n",
              "\n",
              "    [theme=dark] .colab-df-convert {\n",
              "      background-color: #3B4455;\n",
              "      fill: #D2E3FC;\n",
              "    }\n",
              "\n",
              "    [theme=dark] .colab-df-convert:hover {\n",
              "      background-color: #434B5C;\n",
              "      box-shadow: 0px 1px 3px 1px rgba(0, 0, 0, 0.15);\n",
              "      filter: drop-shadow(0px 1px 2px rgba(0, 0, 0, 0.3));\n",
              "      fill: #FFFFFF;\n",
              "    }\n",
              "  </style>\n",
              "\n",
              "    <script>\n",
              "      const buttonEl =\n",
              "        document.querySelector('#df-c6fb5d42-75b7-4f69-804f-0c14a7ce86b4 button.colab-df-convert');\n",
              "      buttonEl.style.display =\n",
              "        google.colab.kernel.accessAllowed ? 'block' : 'none';\n",
              "\n",
              "      async function convertToInteractive(key) {\n",
              "        const element = document.querySelector('#df-c6fb5d42-75b7-4f69-804f-0c14a7ce86b4');\n",
              "        const dataTable =\n",
              "          await google.colab.kernel.invokeFunction('convertToInteractive',\n",
              "                                                    [key], {});\n",
              "        if (!dataTable) return;\n",
              "\n",
              "        const docLinkHtml = 'Like what you see? Visit the ' +\n",
              "          '<a target=\"_blank\" href=https://colab.research.google.com/notebooks/data_table.ipynb>data table notebook</a>'\n",
              "          + ' to learn more about interactive tables.';\n",
              "        element.innerHTML = '';\n",
              "        dataTable['output_type'] = 'display_data';\n",
              "        await google.colab.output.renderOutput(dataTable, element);\n",
              "        const docLink = document.createElement('div');\n",
              "        docLink.innerHTML = docLinkHtml;\n",
              "        element.appendChild(docLink);\n",
              "      }\n",
              "    </script>\n",
              "  </div>\n",
              "\n",
              "\n",
              "<div id=\"df-f9be94b9-4d6b-40ac-8c4c-408b233d0e71\">\n",
              "  <button class=\"colab-df-quickchart\" onclick=\"quickchart('df-f9be94b9-4d6b-40ac-8c4c-408b233d0e71')\"\n",
              "            title=\"Suggest charts.\"\n",
              "            style=\"display:none;\">\n",
              "\n",
              "<svg xmlns=\"http://www.w3.org/2000/svg\" height=\"24px\"viewBox=\"0 0 24 24\"\n",
              "     width=\"24px\">\n",
              "    <g>\n",
              "        <path d=\"M19 3H5c-1.1 0-2 .9-2 2v14c0 1.1.9 2 2 2h14c1.1 0 2-.9 2-2V5c0-1.1-.9-2-2-2zM9 17H7v-7h2v7zm4 0h-2V7h2v10zm4 0h-2v-4h2v4z\"/>\n",
              "    </g>\n",
              "</svg>\n",
              "  </button>\n",
              "\n",
              "<style>\n",
              "  .colab-df-quickchart {\n",
              "      --bg-color: #E8F0FE;\n",
              "      --fill-color: #1967D2;\n",
              "      --hover-bg-color: #E2EBFA;\n",
              "      --hover-fill-color: #174EA6;\n",
              "      --disabled-fill-color: #AAA;\n",
              "      --disabled-bg-color: #DDD;\n",
              "  }\n",
              "\n",
              "  [theme=dark] .colab-df-quickchart {\n",
              "      --bg-color: #3B4455;\n",
              "      --fill-color: #D2E3FC;\n",
              "      --hover-bg-color: #434B5C;\n",
              "      --hover-fill-color: #FFFFFF;\n",
              "      --disabled-bg-color: #3B4455;\n",
              "      --disabled-fill-color: #666;\n",
              "  }\n",
              "\n",
              "  .colab-df-quickchart {\n",
              "    background-color: var(--bg-color);\n",
              "    border: none;\n",
              "    border-radius: 50%;\n",
              "    cursor: pointer;\n",
              "    display: none;\n",
              "    fill: var(--fill-color);\n",
              "    height: 32px;\n",
              "    padding: 0;\n",
              "    width: 32px;\n",
              "  }\n",
              "\n",
              "  .colab-df-quickchart:hover {\n",
              "    background-color: var(--hover-bg-color);\n",
              "    box-shadow: 0 1px 2px rgba(60, 64, 67, 0.3), 0 1px 3px 1px rgba(60, 64, 67, 0.15);\n",
              "    fill: var(--button-hover-fill-color);\n",
              "  }\n",
              "\n",
              "  .colab-df-quickchart-complete:disabled,\n",
              "  .colab-df-quickchart-complete:disabled:hover {\n",
              "    background-color: var(--disabled-bg-color);\n",
              "    fill: var(--disabled-fill-color);\n",
              "    box-shadow: none;\n",
              "  }\n",
              "\n",
              "  .colab-df-spinner {\n",
              "    border: 2px solid var(--fill-color);\n",
              "    border-color: transparent;\n",
              "    border-bottom-color: var(--fill-color);\n",
              "    animation:\n",
              "      spin 1s steps(1) infinite;\n",
              "  }\n",
              "\n",
              "  @keyframes spin {\n",
              "    0% {\n",
              "      border-color: transparent;\n",
              "      border-bottom-color: var(--fill-color);\n",
              "      border-left-color: var(--fill-color);\n",
              "    }\n",
              "    20% {\n",
              "      border-color: transparent;\n",
              "      border-left-color: var(--fill-color);\n",
              "      border-top-color: var(--fill-color);\n",
              "    }\n",
              "    30% {\n",
              "      border-color: transparent;\n",
              "      border-left-color: var(--fill-color);\n",
              "      border-top-color: var(--fill-color);\n",
              "      border-right-color: var(--fill-color);\n",
              "    }\n",
              "    40% {\n",
              "      border-color: transparent;\n",
              "      border-right-color: var(--fill-color);\n",
              "      border-top-color: var(--fill-color);\n",
              "    }\n",
              "    60% {\n",
              "      border-color: transparent;\n",
              "      border-right-color: var(--fill-color);\n",
              "    }\n",
              "    80% {\n",
              "      border-color: transparent;\n",
              "      border-right-color: var(--fill-color);\n",
              "      border-bottom-color: var(--fill-color);\n",
              "    }\n",
              "    90% {\n",
              "      border-color: transparent;\n",
              "      border-bottom-color: var(--fill-color);\n",
              "    }\n",
              "  }\n",
              "</style>\n",
              "\n",
              "  <script>\n",
              "    async function quickchart(key) {\n",
              "      const quickchartButtonEl =\n",
              "        document.querySelector('#' + key + ' button');\n",
              "      quickchartButtonEl.disabled = true;  // To prevent multiple clicks.\n",
              "      quickchartButtonEl.classList.add('colab-df-spinner');\n",
              "      try {\n",
              "        const charts = await google.colab.kernel.invokeFunction(\n",
              "            'suggestCharts', [key], {});\n",
              "      } catch (error) {\n",
              "        console.error('Error during call to suggestCharts:', error);\n",
              "      }\n",
              "      quickchartButtonEl.classList.remove('colab-df-spinner');\n",
              "      quickchartButtonEl.classList.add('colab-df-quickchart-complete');\n",
              "    }\n",
              "    (() => {\n",
              "      let quickchartButtonEl =\n",
              "        document.querySelector('#df-f9be94b9-4d6b-40ac-8c4c-408b233d0e71 button');\n",
              "      quickchartButtonEl.style.display =\n",
              "        google.colab.kernel.accessAllowed ? 'block' : 'none';\n",
              "    })();\n",
              "  </script>\n",
              "</div>\n",
              "    </div>\n",
              "  </div>\n"
            ]
          },
          "metadata": {},
          "execution_count": 4
        }
      ]
    },
    {
      "cell_type": "code",
      "source": [
        "# @title treinar base de dados\n",
        "from sklearn.model_selection import train_test_split\n",
        "\n",
        "X = df.drop(columns=['class'])\n",
        "Y = df['class']\n",
        "\n",
        "# Separando os dados em treinamento(75%) e teste(25%)\n",
        "\n",
        "X_train, X_test, Y_train, Y_test = train_test_split(X, Y, test_size=0.25)\n"
      ],
      "metadata": {
        "id": "tRUxvFgr2WiZ"
      },
      "execution_count": null,
      "outputs": []
    },
    {
      "cell_type": "code",
      "source": [
        "# @title arvore aleatoria\n",
        "from sklearn.ensemble import RandomForestClassifier\n",
        "\n",
        "rf = RandomForestClassifier().fit(X_train, Y_train)"
      ],
      "metadata": {
        "id": "jB7p9dsk2grh"
      },
      "execution_count": null,
      "outputs": []
    },
    {
      "cell_type": "code",
      "source": [
        "from sklearn.inspection import permutation_importance\n",
        "import matplotlib.pyplot as plt\n",
        "\n",
        "result = permutation_importance(rf, X_test, Y_test,n_repeats=30, random_state=0)\n",
        "\n",
        "forest_importances = pd.Series(result.importances_mean, index=X.columns)\n",
        "\n",
        "fig, ax = plt.subplots()\n",
        "\n",
        "forest_importances.plot.bar(yerr=result.importances_std, ax=ax)\n",
        "\n",
        "ax.set_title(\"Feature importances using permutation on full model\")\n",
        "ax.set_ylabel(\"Mean accuracy decrease\")\n",
        "fig.tight_layout()\n",
        "plt.show()"
      ],
      "metadata": {
        "colab": {
          "base_uri": "https://localhost:8080/",
          "height": 487
        },
        "id": "x7t7rbqh3SlM",
        "outputId": "bb224b3e-314c-4bb0-985c-16960e4a9513"
      },
      "execution_count": null,
      "outputs": [
        {
          "output_type": "display_data",
          "data": {
            "text/plain": [
              "<Figure size 640x480 with 1 Axes>"
            ],
            "image/png": "[encoded data removed]"
          },
          "metadata": {}
        }
      ]
    },
    {
      "cell_type": "code",
      "source": [
        "# @title testando o modelo arvore aleatoria\n",
        "from sklearn.metrics import accuracy_score\n",
        "\n",
        "Yhat = rf.predict(X_test)\n",
        "\n",
        "print(\"Acurácia dos dados de teste  : \", accuracy_score(Y_test,Yhat))"
      ],
      "metadata": {
        "colab": {
          "base_uri": "https://localhost:8080/"
        },
        "id": "qbHe-lVT3XZH",
        "outputId": "a6fc4efa-6585-42d7-d812-dcea3a90c665"
      },
      "execution_count": null,
      "outputs": [
        {
          "output_type": "stream",
          "name": "stdout",
          "text": [
            "Acurácia dos dados de teste  :  0.7447916666666666\n"
          ]
        }
      ]
    },
    {
      "cell_type": "code",
      "source": [
        "# Returning the class probabilities if necessary --- obs.: class yes\n",
        "rf.predict_proba(X_test)[:,1]"
      ],
      "metadata": {
        "colab": {
          "base_uri": "https://localhost:8080/"
        },
        "id": "mLVtqUWR3x2h",
        "outputId": "b96d491b-81ca-4626-b635-2d524cf9ee49"
      },
      "execution_count": null,
      "outputs": [
        {
          "output_type": "execute_result",
          "data": {
            "text/plain": [
              "array([0.5 , 0.06, 0.02, 0.34, 0.06, 0.21, 0.03, 0.5 , 0.59, 0.36, 0.33,\n",
              "       0.31, 0.22, 0.17, 0.3 , 0.77, 0.58, 0.28, 0.12, 0.  , 0.6 , 0.26,\n",
              "       0.01, 0.53, 0.49, 0.26, 0.1 , 0.01, 0.56, 0.68, 0.79, 0.05, 0.01,\n",
              "       0.15, 0.76, 0.74, 0.36, 0.02, 0.39, 0.39, 0.77, 0.31, 0.68, 0.29,\n",
              "       0.01, 0.24, 0.13, 0.24, 0.47, 0.75, 0.54, 0.01, 0.42, 0.05, 0.1 ,\n",
              "       0.12, 0.05, 0.77, 0.3 , 0.76, 0.02, 0.87, 0.15, 0.69, 0.49, 0.09,\n",
              "       0.01, 0.18, 0.88, 0.39, 0.24, 0.09, 0.02, 0.17, 0.5 , 0.84, 0.86,\n",
              "       0.4 , 0.5 , 0.05, 0.58, 0.11, 0.25, 0.47, 0.04, 0.47, 0.07, 0.41,\n",
              "       0.67, 0.62, 0.49, 0.26, 0.36, 0.03, 0.61, 0.66, 0.3 , 0.18, 0.49,\n",
              "       0.69, 0.16, 0.19, 0.09, 0.15, 0.58, 0.24, 0.24, 0.7 , 0.86, 0.4 ,\n",
              "       0.02, 0.04, 0.33, 0.01, 0.06, 0.92, 0.55, 0.69, 0.62, 0.01, 0.11,\n",
              "       0.32, 0.5 , 0.27, 0.5 , 0.62, 0.75, 0.44, 0.44, 0.01, 0.31, 0.24,\n",
              "       0.2 , 0.22, 0.03, 0.1 , 0.11, 0.02, 0.44, 0.72, 0.03, 0.07, 0.68,\n",
              "       0.67, 0.71, 0.52, 0.71, 0.41, 0.33, 0.71, 0.24, 0.36, 0.11, 0.16,\n",
              "       0.  , 0.24, 0.43, 0.15, 0.29, 0.35, 0.17, 0.18, 0.58, 0.03, 0.  ,\n",
              "       0.43, 0.69, 0.73, 0.53, 0.22, 0.09, 0.2 , 0.33, 0.59, 0.28, 0.1 ,\n",
              "       0.06, 0.47, 0.65, 0.58, 0.05, 0.32, 0.54, 0.03, 0.  , 0.55, 0.05,\n",
              "       0.09, 0.36, 0.08, 0.25, 0.35])"
            ]
          },
          "metadata": {},
          "execution_count": 10
        }
      ]
    },
    {
      "cell_type": "code",
      "source": [
        "Yhat\n"
      ],
      "metadata": {
        "colab": {
          "base_uri": "https://localhost:8080/"
        },
        "id": "aBCOe4wK3-8l",
        "outputId": "81944631-19ca-4ecf-d094-517615ae1542"
      },
      "execution_count": null,
      "outputs": [
        {
          "output_type": "execute_result",
          "data": {
            "text/plain": [
              "array(['tested_negative', 'tested_negative', 'tested_negative',\n",
              "       'tested_negative', 'tested_negative', 'tested_negative',\n",
              "       'tested_negative', 'tested_negative', 'tested_positive',\n",
              "       'tested_negative', 'tested_negative', 'tested_negative',\n",
              "       'tested_negative', 'tested_negative', 'tested_negative',\n",
              "       'tested_positive', 'tested_positive', 'tested_negative',\n",
              "       'tested_negative', 'tested_negative', 'tested_positive',\n",
              "       'tested_negative', 'tested_negative', 'tested_positive',\n",
              "       'tested_negative', 'tested_negative', 'tested_negative',\n",
              "       'tested_negative', 'tested_positive', 'tested_positive',\n",
              "       'tested_positive', 'tested_negative', 'tested_negative',\n",
              "       'tested_negative', 'tested_positive', 'tested_positive',\n",
              "       'tested_negative', 'tested_negative', 'tested_negative',\n",
              "       'tested_negative', 'tested_positive', 'tested_negative',\n",
              "       'tested_positive', 'tested_negative', 'tested_negative',\n",
              "       'tested_negative', 'tested_negative', 'tested_negative',\n",
              "       'tested_negative', 'tested_positive', 'tested_positive',\n",
              "       'tested_negative', 'tested_negative', 'tested_negative',\n",
              "       'tested_negative', 'tested_negative', 'tested_negative',\n",
              "       'tested_positive', 'tested_negative', 'tested_positive',\n",
              "       'tested_negative', 'tested_positive', 'tested_negative',\n",
              "       'tested_positive', 'tested_negative', 'tested_negative',\n",
              "       'tested_negative', 'tested_negative', 'tested_positive',\n",
              "       'tested_negative', 'tested_negative', 'tested_negative',\n",
              "       'tested_negative', 'tested_negative', 'tested_negative',\n",
              "       'tested_positive', 'tested_positive', 'tested_negative',\n",
              "       'tested_negative', 'tested_negative', 'tested_positive',\n",
              "       'tested_negative', 'tested_negative', 'tested_negative',\n",
              "       'tested_negative', 'tested_negative', 'tested_negative',\n",
              "       'tested_negative', 'tested_positive', 'tested_positive',\n",
              "       'tested_negative', 'tested_negative', 'tested_negative',\n",
              "       'tested_negative', 'tested_positive', 'tested_positive',\n",
              "       'tested_negative', 'tested_negative', 'tested_negative',\n",
              "       'tested_positive', 'tested_negative', 'tested_negative',\n",
              "       'tested_negative', 'tested_negative', 'tested_positive',\n",
              "       'tested_negative', 'tested_negative', 'tested_positive',\n",
              "       'tested_positive', 'tested_negative', 'tested_negative',\n",
              "       'tested_negative', 'tested_negative', 'tested_negative',\n",
              "       'tested_negative', 'tested_positive', 'tested_positive',\n",
              "       'tested_positive', 'tested_positive', 'tested_negative',\n",
              "       'tested_negative', 'tested_negative', 'tested_negative',\n",
              "       'tested_negative', 'tested_negative', 'tested_positive',\n",
              "       'tested_positive', 'tested_negative', 'tested_negative',\n",
              "       'tested_negative', 'tested_negative', 'tested_negative',\n",
              "       'tested_negative', 'tested_negative', 'tested_negative',\n",
              "       'tested_negative', 'tested_negative', 'tested_negative',\n",
              "       'tested_negative', 'tested_positive', 'tested_negative',\n",
              "       'tested_negative', 'tested_positive', 'tested_positive',\n",
              "       'tested_positive', 'tested_positive', 'tested_positive',\n",
              "       'tested_negative', 'tested_negative', 'tested_positive',\n",
              "       'tested_negative', 'tested_negative', 'tested_negative',\n",
              "       'tested_negative', 'tested_negative', 'tested_negative',\n",
              "       'tested_negative', 'tested_negative', 'tested_negative',\n",
              "       'tested_negative', 'tested_negative', 'tested_negative',\n",
              "       'tested_positive', 'tested_negative', 'tested_negative',\n",
              "       'tested_negative', 'tested_positive', 'tested_positive',\n",
              "       'tested_positive', 'tested_negative', 'tested_negative',\n",
              "       'tested_negative', 'tested_negative', 'tested_positive',\n",
              "       'tested_negative', 'tested_negative', 'tested_negative',\n",
              "       'tested_negative', 'tested_positive', 'tested_positive',\n",
              "       'tested_negative', 'tested_negative', 'tested_positive',\n",
              "       'tested_negative', 'tested_negative', 'tested_positive',\n",
              "       'tested_negative', 'tested_negative', 'tested_negative',\n",
              "       'tested_negative', 'tested_negative', 'tested_negative'],\n",
              "      dtype=object)"
            ]
          },
          "metadata": {},
          "execution_count": 11
        }
      ]
    },
    {
      "cell_type": "code",
      "source": [
        "from sklearn.metrics import confusion_matrix, ConfusionMatrixDisplay\n",
        "import matplotlib.pyplot as plt\n",
        "\n",
        "# Displaying the confusion matrix\n",
        "\n",
        "cm = confusion_matrix(Y_test, Yhat, labels=rf.classes_)\n",
        "\n",
        "disp = ConfusionMatrixDisplay(confusion_matrix=cm,display_labels=rf.classes_)\n",
        "\n",
        "disp.plot()\n",
        "\n",
        "plt.show()"
      ],
      "metadata": {
        "colab": {
          "base_uri": "https://localhost:8080/",
          "height": 450
        },
        "id": "uIepyyTK4B91",
        "outputId": "7e785719-b0de-4934-c753-f6b6bb6cadda"
      },
      "execution_count": null,
      "outputs": [
        {
          "output_type": "display_data",
          "data": {
            "text/plain": [
              "<Figure size 640x480 with 2 Axes>"
            ],
            "image/png": "[encoded data removed]"
          },
          "metadata": {}
        }
      ]
    },
    {
      "cell_type": "code",
      "source": [
        "# @title construindo curva ROC\n",
        "\n",
        "from sklearn.metrics import RocCurveDisplay\n",
        "\n",
        "#y_score = rf.decision_function(X_test)\n",
        "\n",
        "#fpr, tpr, thresholds = metrics.roc_curve(y, pred)\n",
        "#roc_auc = metrics.auc(fpr, tpr)\n",
        "#display = metrics.RocCurveDisplay(fpr=fpr, tpr=tpr, roc_auc=roc_auc,\n",
        "#...                                   estimator_name='example estimator')\n",
        "\n",
        "RocCurveDisplay.from_estimator(rf, X_test, Y_test)\n",
        "\n",
        "# display.plot()\n",
        "# plt.show()"
      ],
      "metadata": {
        "colab": {
          "base_uri": "https://localhost:8080/",
          "height": 468
        },
        "id": "Mx3uOVoh4EZC",
        "outputId": "eb8e5786-a22a-4bdb-9236-c7fc84994817"
      },
      "execution_count": null,
      "outputs": [
        {
          "output_type": "execute_result",
          "data": {
            "text/plain": [
              "<sklearn.metrics._plot.roc_curve.RocCurveDisplay at 0x7905b72b4160>"
            ]
          },
          "metadata": {},
          "execution_count": 13
        },
        {
          "output_type": "display_data",
          "data": {
            "text/plain": [
              "<Figure size 640x480 with 1 Axes>"
            ],
            "image/png": "[encoded data removed]"
          },
          "metadata": {}
        }
      ]
    }
  ]
}